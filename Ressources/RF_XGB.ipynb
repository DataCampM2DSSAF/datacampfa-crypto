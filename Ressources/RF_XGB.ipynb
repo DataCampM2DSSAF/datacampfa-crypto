{
 "cells": [
  {
   "cell_type": "code",
   "execution_count": 1,
   "id": "0ba60e5d",
   "metadata": {
    "_cell_guid": "b1076dfc-b9ad-4769-8c92-a6c4dae69d19",
    "_uuid": "8f2839f25d086af736a60e9eeb907d3b93b6e0e5",
    "execution": {
     "iopub.execute_input": "2022-03-23T11:15:29.765888Z",
     "iopub.status.busy": "2022-03-23T11:15:29.764643Z",
     "iopub.status.idle": "2022-03-23T11:15:45.694575Z",
     "shell.execute_reply": "2022-03-23T11:15:45.693836Z",
     "shell.execute_reply.started": "2022-03-21T12:40:20.688751Z"
    },
    "papermill": {
     "duration": 15.999648,
     "end_time": "2022-03-23T11:15:45.694761",
     "exception": false,
     "start_time": "2022-03-23T11:15:29.695113",
     "status": "completed"
    },
    "tags": []
   },
   "outputs": [
    {
     "name": "stdout",
     "output_type": "stream",
     "text": [
      "\u001b[33mWARNING: Running pip as the 'root' user can result in broken permissions and conflicting behaviour with the system package manager. It is recommended to use a virtual environment instead: https://pip.pypa.io/warnings/venv\u001b[0m\r\n"
     ]
    }
   ],
   "source": [
    "!pip install jovian opendatasets matplotlib seaborn xgboost --upgrade --quiet"
   ]
  },
  {
   "cell_type": "code",
   "execution_count": 2,
   "id": "2c171d8f",
   "metadata": {
    "execution": {
     "iopub.execute_input": "2022-03-23T11:15:45.832562Z",
     "iopub.status.busy": "2022-03-23T11:15:45.831867Z",
     "iopub.status.idle": "2022-03-23T11:15:47.437507Z",
     "shell.execute_reply": "2022-03-23T11:15:47.436778Z",
     "shell.execute_reply.started": "2022-03-21T12:40:36.52136Z"
    },
    "papermill": {
     "duration": 1.675358,
     "end_time": "2022-03-23T11:15:47.437646",
     "exception": false,
     "start_time": "2022-03-23T11:15:45.762288",
     "status": "completed"
    },
    "tags": []
   },
   "outputs": [],
   "source": [
    "# Import packages\n",
    "import opendatasets as od\n",
    "import os\n",
    "import pandas as pd\n",
    "import numpy as np\n",
    "import matplotlib.pyplot as plt\n",
    "import seaborn as sns\n",
    "from sklearn.preprocessing import MinMaxScaler\n",
    "from sklearn.preprocessing import OneHotEncoder\n",
    "from sklearn.ensemble import RandomForestRegressor\n",
    "from sklearn.metrics import mean_squared_error\n",
    "from xgboost import XGBRegressor\n",
    "\n",
    "from datetime import datetime"
   ]
  },
  {
   "cell_type": "markdown",
   "id": "5c640bee",
   "metadata": {
    "papermill": {
     "duration": 0.06075,
     "end_time": "2022-03-23T11:15:47.559729",
     "exception": false,
     "start_time": "2022-03-23T11:15:47.498979",
     "status": "completed"
    },
    "tags": []
   },
   "source": [
    "## Downloading the Data\n",
    "The dataset is obtained from kaggle. The dataset contains information on historic trades for several cryptoassets, such as Bitcoin and Ethereum."
   ]
  },
  {
   "cell_type": "code",
   "execution_count": 3,
   "id": "faf11849",
   "metadata": {
    "execution": {
     "iopub.execute_input": "2022-03-23T11:15:47.686231Z",
     "iopub.status.busy": "2022-03-23T11:15:47.685583Z",
     "iopub.status.idle": "2022-03-23T11:15:47.817025Z",
     "shell.execute_reply": "2022-03-23T11:15:47.816288Z",
     "shell.execute_reply.started": "2022-03-21T12:40:43.007743Z"
    },
    "papermill": {
     "duration": 0.195587,
     "end_time": "2022-03-23T11:15:47.817370",
     "exception": true,
     "start_time": "2022-03-23T11:15:47.621783",
     "status": "failed"
    },
    "tags": []
   },
   "outputs": [
    {
     "name": "stdout",
     "output_type": "stream",
     "text": [
      "Please provide your Kaggle credentials to download this dataset. Learn more: http://bit.ly/kaggle-creds\n",
      "Your Kaggle username:"
     ]
    },
    {
     "ename": "StdinNotImplementedError",
     "evalue": "raw_input was called, but this frontend does not support input requests.",
     "output_type": "error",
     "traceback": [
      "\u001b[0;31m---------------------------------------------------------------------------\u001b[0m",
      "\u001b[0;31mStdinNotImplementedError\u001b[0m                  Traceback (most recent call last)",
      "\u001b[0;32m/tmp/ipykernel_21/3195385589.py\u001b[0m in \u001b[0;36m<module>\u001b[0;34m\u001b[0m\n\u001b[1;32m      1\u001b[0m \u001b[0mdata_url\u001b[0m \u001b[0;34m=\u001b[0m \u001b[0;34m'https://www.kaggle.com/c/g-research-crypto-forecasting/data'\u001b[0m\u001b[0;34m\u001b[0m\u001b[0;34m\u001b[0m\u001b[0m\n\u001b[0;32m----> 2\u001b[0;31m \u001b[0mod\u001b[0m\u001b[0;34m.\u001b[0m\u001b[0mdownload\u001b[0m\u001b[0;34m(\u001b[0m\u001b[0mdata_url\u001b[0m\u001b[0;34m)\u001b[0m\u001b[0;34m\u001b[0m\u001b[0;34m\u001b[0m\u001b[0m\n\u001b[0m",
      "\u001b[0;32m/opt/conda/lib/python3.7/site-packages/opendatasets/__init__.py\u001b[0m in \u001b[0;36mdownload\u001b[0;34m(dataset_id_or_url, data_dir, force, dry_run, **kwargs)\u001b[0m\n\u001b[1;32m     11\u001b[0m     \u001b[0;31m# Check for a Kaggle dataset URL\u001b[0m\u001b[0;34m\u001b[0m\u001b[0;34m\u001b[0m\u001b[0;34m\u001b[0m\u001b[0m\n\u001b[1;32m     12\u001b[0m     \u001b[0;32mif\u001b[0m \u001b[0mis_kaggle_url\u001b[0m\u001b[0;34m(\u001b[0m\u001b[0mdataset_id_or_url\u001b[0m\u001b[0;34m)\u001b[0m\u001b[0;34m:\u001b[0m\u001b[0;34m\u001b[0m\u001b[0;34m\u001b[0m\u001b[0m\n\u001b[0;32m---> 13\u001b[0;31m         \u001b[0;32mreturn\u001b[0m \u001b[0mdownload_kaggle_dataset\u001b[0m\u001b[0;34m(\u001b[0m\u001b[0mdataset_id_or_url\u001b[0m\u001b[0;34m,\u001b[0m \u001b[0mdata_dir\u001b[0m\u001b[0;34m=\u001b[0m\u001b[0mdata_dir\u001b[0m\u001b[0;34m,\u001b[0m \u001b[0mforce\u001b[0m\u001b[0;34m=\u001b[0m\u001b[0mforce\u001b[0m\u001b[0;34m,\u001b[0m \u001b[0mdry_run\u001b[0m\u001b[0;34m=\u001b[0m\u001b[0mdry_run\u001b[0m\u001b[0;34m)\u001b[0m\u001b[0;34m\u001b[0m\u001b[0;34m\u001b[0m\u001b[0m\n\u001b[0m\u001b[1;32m     14\u001b[0m \u001b[0;34m\u001b[0m\u001b[0m\n\u001b[1;32m     15\u001b[0m     \u001b[0;31m# Check for Google Drive URL\u001b[0m\u001b[0;34m\u001b[0m\u001b[0;34m\u001b[0m\u001b[0;34m\u001b[0m\u001b[0m\n",
      "\u001b[0;32m/opt/conda/lib/python3.7/site-packages/opendatasets/utils/kaggle_api.py\u001b[0m in \u001b[0;36mdownload_kaggle_dataset\u001b[0;34m(dataset_url, data_dir, force, dry_run)\u001b[0m\n\u001b[1;32m     43\u001b[0m     \u001b[0;32mif\u001b[0m \u001b[0;32mnot\u001b[0m \u001b[0mread_kaggle_creds\u001b[0m\u001b[0;34m(\u001b[0m\u001b[0;34m)\u001b[0m\u001b[0;34m:\u001b[0m\u001b[0;34m\u001b[0m\u001b[0;34m\u001b[0m\u001b[0m\n\u001b[1;32m     44\u001b[0m         \u001b[0mprint\u001b[0m\u001b[0;34m(\u001b[0m\u001b[0;34m\"Please provide your Kaggle credentials to download this dataset. Learn more: http://bit.ly/kaggle-creds\"\u001b[0m\u001b[0;34m)\u001b[0m\u001b[0;34m\u001b[0m\u001b[0;34m\u001b[0m\u001b[0m\n\u001b[0;32m---> 45\u001b[0;31m         \u001b[0mos\u001b[0m\u001b[0;34m.\u001b[0m\u001b[0menviron\u001b[0m\u001b[0;34m[\u001b[0m\u001b[0;34m'KAGGLE_USERNAME'\u001b[0m\u001b[0;34m]\u001b[0m \u001b[0;34m=\u001b[0m \u001b[0mclick\u001b[0m\u001b[0;34m.\u001b[0m\u001b[0mprompt\u001b[0m\u001b[0;34m(\u001b[0m\u001b[0;34m\"Your Kaggle username\"\u001b[0m\u001b[0;34m)\u001b[0m\u001b[0;34m\u001b[0m\u001b[0;34m\u001b[0m\u001b[0m\n\u001b[0m\u001b[1;32m     46\u001b[0m         \u001b[0mos\u001b[0m\u001b[0;34m.\u001b[0m\u001b[0menviron\u001b[0m\u001b[0;34m[\u001b[0m\u001b[0;34m'KAGGLE_KEY'\u001b[0m\u001b[0;34m]\u001b[0m \u001b[0;34m=\u001b[0m \u001b[0m_get_kaggle_key\u001b[0m\u001b[0;34m(\u001b[0m\u001b[0;34m)\u001b[0m\u001b[0;34m\u001b[0m\u001b[0;34m\u001b[0m\u001b[0m\n\u001b[1;32m     47\u001b[0m \u001b[0;34m\u001b[0m\u001b[0m\n",
      "\u001b[0;32m/opt/conda/lib/python3.7/site-packages/click/termui.py\u001b[0m in \u001b[0;36mprompt\u001b[0;34m(text, default, hide_input, confirmation_prompt, type, value_proc, prompt_suffix, show_default, err, show_choices)\u001b[0m\n\u001b[1;32m    166\u001b[0m     \u001b[0;32mwhile\u001b[0m \u001b[0;32mTrue\u001b[0m\u001b[0;34m:\u001b[0m\u001b[0;34m\u001b[0m\u001b[0;34m\u001b[0m\u001b[0m\n\u001b[1;32m    167\u001b[0m         \u001b[0;32mwhile\u001b[0m \u001b[0;32mTrue\u001b[0m\u001b[0;34m:\u001b[0m\u001b[0;34m\u001b[0m\u001b[0;34m\u001b[0m\u001b[0m\n\u001b[0;32m--> 168\u001b[0;31m             \u001b[0mvalue\u001b[0m \u001b[0;34m=\u001b[0m \u001b[0mprompt_func\u001b[0m\u001b[0;34m(\u001b[0m\u001b[0mprompt\u001b[0m\u001b[0;34m)\u001b[0m\u001b[0;34m\u001b[0m\u001b[0;34m\u001b[0m\u001b[0m\n\u001b[0m\u001b[1;32m    169\u001b[0m             \u001b[0;32mif\u001b[0m \u001b[0mvalue\u001b[0m\u001b[0;34m:\u001b[0m\u001b[0;34m\u001b[0m\u001b[0;34m\u001b[0m\u001b[0m\n\u001b[1;32m    170\u001b[0m                 \u001b[0;32mbreak\u001b[0m\u001b[0;34m\u001b[0m\u001b[0;34m\u001b[0m\u001b[0m\n",
      "\u001b[0;32m/opt/conda/lib/python3.7/site-packages/click/termui.py\u001b[0m in \u001b[0;36mprompt_func\u001b[0;34m(text)\u001b[0m\n\u001b[1;32m    141\u001b[0m             \u001b[0;31m# Echo a space to stdout to work around an issue where\u001b[0m\u001b[0;34m\u001b[0m\u001b[0;34m\u001b[0m\u001b[0;34m\u001b[0m\u001b[0m\n\u001b[1;32m    142\u001b[0m             \u001b[0;31m# readline causes backspace to clear the whole line.\u001b[0m\u001b[0;34m\u001b[0m\u001b[0;34m\u001b[0m\u001b[0;34m\u001b[0m\u001b[0m\n\u001b[0;32m--> 143\u001b[0;31m             \u001b[0;32mreturn\u001b[0m \u001b[0mf\u001b[0m\u001b[0;34m(\u001b[0m\u001b[0;34m\" \"\u001b[0m\u001b[0;34m)\u001b[0m\u001b[0;34m\u001b[0m\u001b[0;34m\u001b[0m\u001b[0m\n\u001b[0m\u001b[1;32m    144\u001b[0m         \u001b[0;32mexcept\u001b[0m \u001b[0;34m(\u001b[0m\u001b[0mKeyboardInterrupt\u001b[0m\u001b[0;34m,\u001b[0m \u001b[0mEOFError\u001b[0m\u001b[0;34m)\u001b[0m\u001b[0;34m:\u001b[0m\u001b[0;34m\u001b[0m\u001b[0;34m\u001b[0m\u001b[0m\n\u001b[1;32m    145\u001b[0m             \u001b[0;31m# getpass doesn't print a newline if the user aborts input with ^C.\u001b[0m\u001b[0;34m\u001b[0m\u001b[0;34m\u001b[0m\u001b[0;34m\u001b[0m\u001b[0m\n",
      "\u001b[0;32m/opt/conda/lib/python3.7/site-packages/ipykernel/kernelbase.py\u001b[0m in \u001b[0;36mraw_input\u001b[0;34m(self, prompt)\u001b[0m\n\u001b[1;32m   1003\u001b[0m         \u001b[0;32mif\u001b[0m \u001b[0;32mnot\u001b[0m \u001b[0mself\u001b[0m\u001b[0;34m.\u001b[0m\u001b[0m_allow_stdin\u001b[0m\u001b[0;34m:\u001b[0m\u001b[0;34m\u001b[0m\u001b[0;34m\u001b[0m\u001b[0m\n\u001b[1;32m   1004\u001b[0m             raise StdinNotImplementedError(\n\u001b[0;32m-> 1005\u001b[0;31m                 \u001b[0;34m\"raw_input was called, but this frontend does not support input requests.\"\u001b[0m\u001b[0;34m\u001b[0m\u001b[0;34m\u001b[0m\u001b[0m\n\u001b[0m\u001b[1;32m   1006\u001b[0m             )\n\u001b[1;32m   1007\u001b[0m         return self._input_request(\n",
      "\u001b[0;31mStdinNotImplementedError\u001b[0m: raw_input was called, but this frontend does not support input requests."
     ]
    }
   ],
   "source": [
    "data_url = 'https://www.kaggle.com/c/g-research-crypto-forecasting/data'\n",
    "od.download(data_url)"
   ]
  },
  {
   "cell_type": "code",
   "execution_count": null,
   "id": "48958006",
   "metadata": {
    "execution": {
     "iopub.execute_input": "2022-03-21T12:40:48.865985Z",
     "iopub.status.busy": "2022-03-21T12:40:48.865542Z",
     "iopub.status.idle": "2022-03-21T12:40:48.870285Z",
     "shell.execute_reply": "2022-03-21T12:40:48.869646Z",
     "shell.execute_reply.started": "2022-03-21T12:40:48.865931Z"
    },
    "papermill": {
     "duration": null,
     "end_time": null,
     "exception": null,
     "start_time": null,
     "status": "pending"
    },
    "tags": []
   },
   "outputs": [],
   "source": [
    "data_dir = './g-research-crypto-forecasting'\n"
   ]
  },
  {
   "cell_type": "code",
   "execution_count": null,
   "id": "2936ea72",
   "metadata": {
    "execution": {
     "iopub.execute_input": "2022-03-21T12:40:50.563246Z",
     "iopub.status.busy": "2022-03-21T12:40:50.561546Z",
     "iopub.status.idle": "2022-03-21T12:40:50.573356Z",
     "shell.execute_reply": "2022-03-21T12:40:50.572192Z",
     "shell.execute_reply.started": "2022-03-21T12:40:50.563176Z"
    },
    "papermill": {
     "duration": null,
     "end_time": null,
     "exception": null,
     "start_time": null,
     "status": "pending"
    },
    "tags": []
   },
   "outputs": [],
   "source": [
    "os.listdir(data_dir)\n"
   ]
  },
  {
   "cell_type": "markdown",
   "id": "92cd0681",
   "metadata": {
    "papermill": {
     "duration": null,
     "end_time": null,
     "exception": null,
     "start_time": null,
     "status": "pending"
    },
    "tags": []
   },
   "source": [
    "## Read in Dataset"
   ]
  },
  {
   "cell_type": "code",
   "execution_count": null,
   "id": "78588fc2",
   "metadata": {
    "execution": {
     "iopub.execute_input": "2022-03-21T12:53:13.222273Z",
     "iopub.status.busy": "2022-03-21T12:53:13.221465Z",
     "iopub.status.idle": "2022-03-21T12:53:50.367302Z",
     "shell.execute_reply": "2022-03-21T12:53:50.366069Z",
     "shell.execute_reply.started": "2022-03-21T12:53:13.222217Z"
    },
    "papermill": {
     "duration": null,
     "end_time": null,
     "exception": null,
     "start_time": null,
     "status": "pending"
    },
    "tags": []
   },
   "outputs": [],
   "source": [
    "train_df = pd.read_csv('./g-research-crypto-forecasting/train.csv')\n",
    "asset_details_df = pd.read_csv('./g-research-crypto-forecasting/asset_details.csv')\n",
    "test_df = pd.read_csv('./g-research-crypto-forecasting/example_test.csv')"
   ]
  },
  {
   "cell_type": "code",
   "execution_count": null,
   "id": "22bc00c4",
   "metadata": {
    "execution": {
     "iopub.execute_input": "2022-03-21T12:41:55.67445Z",
     "iopub.status.busy": "2022-03-21T12:41:55.6741Z",
     "iopub.status.idle": "2022-03-21T12:41:55.698759Z",
     "shell.execute_reply": "2022-03-21T12:41:55.698157Z",
     "shell.execute_reply.started": "2022-03-21T12:41:55.674413Z"
    },
    "papermill": {
     "duration": null,
     "end_time": null,
     "exception": null,
     "start_time": null,
     "status": "pending"
    },
    "tags": []
   },
   "outputs": [],
   "source": [
    "train_df.head()"
   ]
  },
  {
   "cell_type": "markdown",
   "id": "b3ea717b",
   "metadata": {
    "papermill": {
     "duration": null,
     "end_time": null,
     "exception": null,
     "start_time": null,
     "status": "pending"
    },
    "tags": []
   },
   "source": [
    "## Data Preparation and Cleaning\n",
    "The training set has the following variables\n",
    "\n",
    "timestamp - A timestamp for the minute covered by the row.\n",
    "\n",
    "Asset_ID - An ID code for the cryptoasset.\n",
    "\n",
    "Count - The number of trades that took place this minute.\n",
    "\n",
    "Open - The USD price at the beginning of the minute.\n",
    "\n",
    "High - The highest USD price during the minute.\n",
    "\n",
    "Low - The lowest USD price during the minute.\n",
    "\n",
    "Close - The USD price at the end of the minute.\n",
    "\n",
    "Volume - The number of cryptoasset units traded during the minute.\n",
    "\n",
    "VWAP - The volume weighted average price for the minute.\n",
    "\n",
    "Target - 15 minute residualized returns.\n",
    "\n",
    "The following variables will be created based on the timestamp column.\n",
    "\n",
    "hour is the hour of the day\n",
    "\n",
    "weekday is the weekday of the week\n",
    "\n",
    "Categorical variables (Asset_ID, hour, and weekday) will be on hot encoded.\n",
    "\n",
    "Numeric variables (Count, Open, High, Low, Close, Volume, and VWAP) will be scaled to the value of 0 to 1 for each of the Asset_ID."
   ]
  },
  {
   "cell_type": "code",
   "execution_count": null,
   "id": "c882de92",
   "metadata": {
    "execution": {
     "iopub.execute_input": "2022-03-21T12:42:03.264316Z",
     "iopub.status.busy": "2022-03-21T12:42:03.264016Z",
     "iopub.status.idle": "2022-03-21T12:42:03.270594Z",
     "shell.execute_reply": "2022-03-21T12:42:03.269513Z",
     "shell.execute_reply.started": "2022-03-21T12:42:03.264282Z"
    },
    "papermill": {
     "duration": null,
     "end_time": null,
     "exception": null,
     "start_time": null,
     "status": "pending"
    },
    "tags": []
   },
   "outputs": [],
   "source": [
    "train_df.shape"
   ]
  },
  {
   "cell_type": "markdown",
   "id": "815e6e26",
   "metadata": {
    "papermill": {
     "duration": null,
     "end_time": null,
     "exception": null,
     "start_time": null,
     "status": "pending"
    },
    "tags": []
   },
   "source": [
    "The training data has 24 million records and 10 columns"
   ]
  },
  {
   "cell_type": "markdown",
   "id": "8745654b",
   "metadata": {
    "papermill": {
     "duration": null,
     "end_time": null,
     "exception": null,
     "start_time": null,
     "status": "pending"
    },
    "tags": []
   },
   "source": [
    "In order to reduce the data for lighter manipulation we take a subset up to November 2020"
   ]
  },
  {
   "cell_type": "code",
   "execution_count": null,
   "id": "61e0601e",
   "metadata": {
    "execution": {
     "iopub.execute_input": "2022-03-21T12:49:13.412873Z",
     "iopub.status.busy": "2022-03-21T12:49:13.412519Z",
     "iopub.status.idle": "2022-03-21T12:49:13.439103Z",
     "shell.execute_reply": "2022-03-21T12:49:13.437572Z",
     "shell.execute_reply.started": "2022-03-21T12:49:13.412841Z"
    },
    "papermill": {
     "duration": null,
     "end_time": null,
     "exception": null,
     "start_time": null,
     "status": "pending"
    },
    "tags": []
   },
   "outputs": [],
   "source": [
    "train_df"
   ]
  },
  {
   "cell_type": "markdown",
   "id": "cab034a8",
   "metadata": {
    "papermill": {
     "duration": null,
     "end_time": null,
     "exception": null,
     "start_time": null,
     "status": "pending"
    },
    "tags": []
   },
   "source": [
    "The reduced training set has 598769 records."
   ]
  },
  {
   "cell_type": "markdown",
   "id": "7dcd57fb",
   "metadata": {
    "papermill": {
     "duration": null,
     "end_time": null,
     "exception": null,
     "start_time": null,
     "status": "pending"
    },
    "tags": []
   },
   "source": [
    "## Handeling Missing Values\n"
   ]
  },
  {
   "cell_type": "code",
   "execution_count": null,
   "id": "d89bcf7c",
   "metadata": {
    "execution": {
     "iopub.execute_input": "2022-03-21T12:53:00.24623Z",
     "iopub.status.busy": "2022-03-21T12:53:00.245319Z",
     "iopub.status.idle": "2022-03-21T12:53:00.250989Z",
     "shell.execute_reply": "2022-03-21T12:53:00.250011Z",
     "shell.execute_reply.started": "2022-03-21T12:53:00.246176Z"
    },
    "papermill": {
     "duration": null,
     "end_time": null,
     "exception": null,
     "start_time": null,
     "status": "pending"
    },
    "tags": []
   },
   "outputs": [],
   "source": [
    "#train_df.reindex(range(train_df.index[0],train_df.index[-1]+60,60),method='pad')"
   ]
  },
  {
   "cell_type": "markdown",
   "id": "414bd05e",
   "metadata": {
    "papermill": {
     "duration": null,
     "end_time": null,
     "exception": null,
     "start_time": null,
     "status": "pending"
    },
    "tags": []
   },
   "source": [
    "The data is registered every 60 s, but gaps appear. The first thing we do is to complete the time gaps by using the previous valid data for each crypto asset."
   ]
  },
  {
   "cell_type": "code",
   "execution_count": null,
   "id": "8b7b1158",
   "metadata": {
    "execution": {
     "iopub.execute_input": "2022-03-21T12:54:50.085591Z",
     "iopub.status.busy": "2022-03-21T12:54:50.085229Z",
     "iopub.status.idle": "2022-03-21T12:55:04.217911Z",
     "shell.execute_reply": "2022-03-21T12:55:04.216602Z",
     "shell.execute_reply.started": "2022-03-21T12:54:50.085559Z"
    },
    "papermill": {
     "duration": null,
     "end_time": null,
     "exception": null,
     "start_time": null,
     "status": "pending"
    },
    "tags": []
   },
   "outputs": [],
   "source": [
    "for i in range(0,14):\n",
    "    train_df[train_df[\"Asset_ID\"] ==i].reindex(range(train_df[train_df[\"Asset_ID\"] ==i].index[0],train_df[train_df[\"Asset_ID\"] ==i].index[-1]+60,60),method='pad')\n"
   ]
  },
  {
   "cell_type": "markdown",
   "id": "db1e49ff",
   "metadata": {
    "papermill": {
     "duration": null,
     "end_time": null,
     "exception": null,
     "start_time": null,
     "status": "pending"
    },
    "tags": []
   },
   "source": [
    "We check for missing features"
   ]
  },
  {
   "cell_type": "code",
   "execution_count": null,
   "id": "5d0c97d9",
   "metadata": {
    "execution": {
     "iopub.execute_input": "2022-03-21T12:55:09.357726Z",
     "iopub.status.busy": "2022-03-21T12:55:09.356577Z",
     "iopub.status.idle": "2022-03-21T12:55:09.934825Z",
     "shell.execute_reply": "2022-03-21T12:55:09.933692Z",
     "shell.execute_reply.started": "2022-03-21T12:55:09.357662Z"
    },
    "papermill": {
     "duration": null,
     "end_time": null,
     "exception": null,
     "start_time": null,
     "status": "pending"
    },
    "tags": []
   },
   "outputs": [],
   "source": [
    "train_df.isna().sum()\n"
   ]
  },
  {
   "cell_type": "code",
   "execution_count": null,
   "id": "6b65f36e",
   "metadata": {
    "execution": {
     "iopub.execute_input": "2022-03-21T12:55:13.905068Z",
     "iopub.status.busy": "2022-03-21T12:55:13.904678Z",
     "iopub.status.idle": "2022-03-21T12:55:13.913609Z",
     "shell.execute_reply": "2022-03-21T12:55:13.912383Z",
     "shell.execute_reply.started": "2022-03-21T12:55:13.905033Z"
    },
    "papermill": {
     "duration": null,
     "end_time": null,
     "exception": null,
     "start_time": null,
     "status": "pending"
    },
    "tags": []
   },
   "outputs": [],
   "source": [
    "train_df.shape"
   ]
  },
  {
   "cell_type": "code",
   "execution_count": null,
   "id": "a7b274ed",
   "metadata": {
    "execution": {
     "iopub.execute_input": "2022-03-21T12:55:16.003039Z",
     "iopub.status.busy": "2022-03-21T12:55:16.002643Z",
     "iopub.status.idle": "2022-03-21T12:55:16.009001Z",
     "shell.execute_reply": "2022-03-21T12:55:16.008321Z",
     "shell.execute_reply.started": "2022-03-21T12:55:16.002998Z"
    },
    "papermill": {
     "duration": null,
     "end_time": null,
     "exception": null,
     "start_time": null,
     "status": "pending"
    },
    "tags": []
   },
   "outputs": [],
   "source": [
    "750338/24236806"
   ]
  },
  {
   "cell_type": "code",
   "execution_count": null,
   "id": "8d3fefaa",
   "metadata": {
    "execution": {
     "iopub.execute_input": "2022-03-21T12:55:24.064293Z",
     "iopub.status.busy": "2022-03-21T12:55:24.063179Z",
     "iopub.status.idle": "2022-03-21T12:55:27.987703Z",
     "shell.execute_reply": "2022-03-21T12:55:27.986559Z",
     "shell.execute_reply.started": "2022-03-21T12:55:24.06422Z"
    },
    "papermill": {
     "duration": null,
     "end_time": null,
     "exception": null,
     "start_time": null,
     "status": "pending"
    },
    "tags": []
   },
   "outputs": [],
   "source": [
    "train_df.isin([np.nan, np.inf, -np.inf]).sum()\n"
   ]
  },
  {
   "cell_type": "markdown",
   "id": "893e9b30",
   "metadata": {
    "papermill": {
     "duration": null,
     "end_time": null,
     "exception": null,
     "start_time": null,
     "status": "pending"
    },
    "tags": []
   },
   "source": [
    "There is no infinity value in the data"
   ]
  },
  {
   "cell_type": "markdown",
   "id": "84c6dd50",
   "metadata": {
    "papermill": {
     "duration": null,
     "end_time": null,
     "exception": null,
     "start_time": null,
     "status": "pending"
    },
    "tags": []
   },
   "source": [
    "The percentage of data without a Target value is low so we decide to ignore them. The following code will drop the missing values and infinity values."
   ]
  },
  {
   "cell_type": "code",
   "execution_count": null,
   "id": "21c58901",
   "metadata": {
    "execution": {
     "iopub.execute_input": "2022-03-21T12:55:35.668453Z",
     "iopub.status.busy": "2022-03-21T12:55:35.667694Z",
     "iopub.status.idle": "2022-03-21T12:55:39.294776Z",
     "shell.execute_reply": "2022-03-21T12:55:39.294119Z",
     "shell.execute_reply.started": "2022-03-21T12:55:35.668391Z"
    },
    "papermill": {
     "duration": null,
     "end_time": null,
     "exception": null,
     "start_time": null,
     "status": "pending"
    },
    "tags": []
   },
   "outputs": [],
   "source": [
    "train_df.dropna(inplace=True)\n",
    "train_df = train_df[np.isfinite(train_df).all(1)]"
   ]
  },
  {
   "cell_type": "code",
   "execution_count": null,
   "id": "8d09cbc1",
   "metadata": {
    "execution": {
     "iopub.execute_input": "2022-03-21T12:55:42.326841Z",
     "iopub.status.busy": "2022-03-21T12:55:42.325526Z",
     "iopub.status.idle": "2022-03-21T12:55:50.125482Z",
     "shell.execute_reply": "2022-03-21T12:55:50.124355Z",
     "shell.execute_reply.started": "2022-03-21T12:55:42.326786Z"
    },
    "papermill": {
     "duration": null,
     "end_time": null,
     "exception": null,
     "start_time": null,
     "status": "pending"
    },
    "tags": []
   },
   "outputs": [],
   "source": [
    "train_df.describe()\n"
   ]
  },
  {
   "cell_type": "markdown",
   "id": "265ea5f8",
   "metadata": {
    "papermill": {
     "duration": null,
     "end_time": null,
     "exception": null,
     "start_time": null,
     "status": "pending"
    },
    "tags": []
   },
   "source": [
    "## Feature Engineering\n",
    "The following code converts timestamp to date time type and creates variables hour and weekday based on the value of column timestamp."
   ]
  },
  {
   "cell_type": "code",
   "execution_count": null,
   "id": "6b7ab5a8",
   "metadata": {
    "execution": {
     "iopub.execute_input": "2022-03-21T12:56:16.847537Z",
     "iopub.status.busy": "2022-03-21T12:56:16.847228Z",
     "iopub.status.idle": "2022-03-21T12:56:22.151739Z",
     "shell.execute_reply": "2022-03-21T12:56:22.150662Z",
     "shell.execute_reply.started": "2022-03-21T12:56:16.847506Z"
    },
    "papermill": {
     "duration": null,
     "end_time": null,
     "exception": null,
     "start_time": null,
     "status": "pending"
    },
    "tags": []
   },
   "outputs": [],
   "source": [
    "# Convert timestamp to date time\n",
    "train_df['timestamp'] = train_df.timestamp.astype('datetime64[s]')\n",
    "train_df = train_df[train_df.timestamp.dt.year==2020]\n",
    "train_df = train_df[train_df.timestamp.dt.month==11]\n",
    "train_df.shape"
   ]
  },
  {
   "cell_type": "code",
   "execution_count": null,
   "id": "c6ec1e94",
   "metadata": {
    "execution": {
     "iopub.execute_input": "2022-03-21T12:56:26.755672Z",
     "iopub.status.busy": "2022-03-21T12:56:26.755277Z",
     "iopub.status.idle": "2022-03-21T12:56:26.894069Z",
     "shell.execute_reply": "2022-03-21T12:56:26.892977Z",
     "shell.execute_reply.started": "2022-03-21T12:56:26.755632Z"
    },
    "papermill": {
     "duration": null,
     "end_time": null,
     "exception": null,
     "start_time": null,
     "status": "pending"
    },
    "tags": []
   },
   "outputs": [],
   "source": [
    "# Create hour variable\n",
    "train_df['hour'] = train_df.timestamp.dt.hour\n",
    "\n",
    "# Create weekday variable\n",
    "train_df['weekday'] = train_df.timestamp.dt.weekday"
   ]
  },
  {
   "cell_type": "markdown",
   "id": "a521fad6",
   "metadata": {
    "papermill": {
     "duration": null,
     "end_time": null,
     "exception": null,
     "start_time": null,
     "status": "pending"
    },
    "tags": []
   },
   "source": [
    "### Encode Categorical Variables\n",
    "This section will convert variables Asset_ID, hour and weekday to categorical variables and create one hot encoder for categorical variables"
   ]
  },
  {
   "cell_type": "code",
   "execution_count": null,
   "id": "5feb12fc",
   "metadata": {
    "execution": {
     "iopub.execute_input": "2022-03-21T12:56:29.789076Z",
     "iopub.status.busy": "2022-03-21T12:56:29.788655Z",
     "iopub.status.idle": "2022-03-21T12:56:29.822595Z",
     "shell.execute_reply": "2022-03-21T12:56:29.821326Z",
     "shell.execute_reply.started": "2022-03-21T12:56:29.78904Z"
    },
    "papermill": {
     "duration": null,
     "end_time": null,
     "exception": null,
     "start_time": null,
     "status": "pending"
    },
    "tags": []
   },
   "outputs": [],
   "source": [
    "# Convert Asset_ID, hour and weekday to categorical\n",
    "train_df['Asset_ID'] = train_df.Asset_ID.astype('category')\n",
    "train_df['hour'] = train_df.hour.astype('category')\n",
    "train_df['weekday'] = train_df.weekday.astype('category')"
   ]
  },
  {
   "cell_type": "code",
   "execution_count": null,
   "id": "cc2e87f8",
   "metadata": {
    "execution": {
     "iopub.execute_input": "2022-03-21T12:56:31.878558Z",
     "iopub.status.busy": "2022-03-21T12:56:31.87806Z",
     "iopub.status.idle": "2022-03-21T12:56:31.941766Z",
     "shell.execute_reply": "2022-03-21T12:56:31.941172Z",
     "shell.execute_reply.started": "2022-03-21T12:56:31.878515Z"
    },
    "papermill": {
     "duration": null,
     "end_time": null,
     "exception": null,
     "start_time": null,
     "status": "pending"
    },
    "tags": []
   },
   "outputs": [],
   "source": [
    "# Set up Encoder\n",
    "encoder = OneHotEncoder(sparse=False, handle_unknown='ignore')\n",
    "\n",
    "# fit onehotcoder\n",
    "encoder.fit(train_df[['Asset_ID','hour','weekday']])"
   ]
  },
  {
   "cell_type": "code",
   "execution_count": null,
   "id": "ed8592d0",
   "metadata": {
    "execution": {
     "iopub.execute_input": "2022-03-21T12:56:34.495059Z",
     "iopub.status.busy": "2022-03-21T12:56:34.494595Z",
     "iopub.status.idle": "2022-03-21T12:56:34.503053Z",
     "shell.execute_reply": "2022-03-21T12:56:34.502124Z",
     "shell.execute_reply.started": "2022-03-21T12:56:34.495023Z"
    },
    "papermill": {
     "duration": null,
     "end_time": null,
     "exception": null,
     "start_time": null,
     "status": "pending"
    },
    "tags": []
   },
   "outputs": [],
   "source": [
    "encoder.__dict__"
   ]
  },
  {
   "cell_type": "code",
   "execution_count": null,
   "id": "25acfb2f",
   "metadata": {
    "execution": {
     "iopub.execute_input": "2022-03-21T12:56:36.617625Z",
     "iopub.status.busy": "2022-03-21T12:56:36.617055Z",
     "iopub.status.idle": "2022-03-21T12:56:37.578921Z",
     "shell.execute_reply": "2022-03-21T12:56:37.578207Z",
     "shell.execute_reply.started": "2022-03-21T12:56:36.617576Z"
    },
    "papermill": {
     "duration": null,
     "end_time": null,
     "exception": null,
     "start_time": null,
     "status": "pending"
    },
    "tags": []
   },
   "outputs": [],
   "source": [
    "# get new encoded cols names\n",
    "encoded_cols = list(encoder.get_feature_names(['Asset_ID','hour','weekday']))\n",
    "\n",
    "# replace categorical variables with one hot encoder\n",
    "train_df[encoded_cols] = encoder.transform(train_df[['Asset_ID','hour','weekday']])"
   ]
  },
  {
   "cell_type": "code",
   "execution_count": null,
   "id": "314b396a",
   "metadata": {
    "papermill": {
     "duration": null,
     "end_time": null,
     "exception": null,
     "start_time": null,
     "status": "pending"
    },
    "tags": []
   },
   "outputs": [],
   "source": []
  },
  {
   "cell_type": "markdown",
   "id": "6e1c1dea",
   "metadata": {
    "papermill": {
     "duration": null,
     "end_time": null,
     "exception": null,
     "start_time": null,
     "status": "pending"
    },
    "tags": []
   },
   "source": [
    "### Scale Numeric Variables\n",
    "This section will scale numeric variables Count, Open, High, Low, Close, Volume, and VWAP to range from 0 to 1."
   ]
  },
  {
   "cell_type": "code",
   "execution_count": null,
   "id": "d2d8712a",
   "metadata": {
    "execution": {
     "iopub.execute_input": "2022-03-21T12:56:40.741349Z",
     "iopub.status.busy": "2022-03-21T12:56:40.740746Z",
     "iopub.status.idle": "2022-03-21T12:56:40.974385Z",
     "shell.execute_reply": "2022-03-21T12:56:40.973677Z",
     "shell.execute_reply.started": "2022-03-21T12:56:40.7413Z"
    },
    "papermill": {
     "duration": null,
     "end_time": null,
     "exception": null,
     "start_time": null,
     "status": "pending"
    },
    "tags": []
   },
   "outputs": [],
   "source": [
    "scaler = MinMaxScaler()\n",
    "\n",
    "\n",
    "num_cols = ['Count', 'Open', 'High', 'Low', 'Close', 'Volume', 'VWAP']\n",
    "\n",
    "scaler.fit(train_df[num_cols])\n",
    "train_df[num_cols] = scaler.transform(train_df[num_cols])"
   ]
  },
  {
   "cell_type": "code",
   "execution_count": null,
   "id": "d838a56e",
   "metadata": {
    "execution": {
     "iopub.execute_input": "2022-03-21T12:56:43.652548Z",
     "iopub.status.busy": "2022-03-21T12:56:43.651945Z",
     "iopub.status.idle": "2022-03-21T12:56:43.688544Z",
     "shell.execute_reply": "2022-03-21T12:56:43.687747Z",
     "shell.execute_reply.started": "2022-03-21T12:56:43.652498Z"
    },
    "papermill": {
     "duration": null,
     "end_time": null,
     "exception": null,
     "start_time": null,
     "status": "pending"
    },
    "tags": []
   },
   "outputs": [],
   "source": [
    "train_df.head()"
   ]
  },
  {
   "cell_type": "markdown",
   "id": "f3ed32b7",
   "metadata": {
    "papermill": {
     "duration": null,
     "end_time": null,
     "exception": null,
     "start_time": null,
     "status": "pending"
    },
    "tags": []
   },
   "source": [
    "## Time Series Plots\n",
    "The following code get the time range for each of the Asset_ID."
   ]
  },
  {
   "cell_type": "code",
   "execution_count": null,
   "id": "7ce2bdc4",
   "metadata": {
    "execution": {
     "iopub.execute_input": "2022-03-21T12:56:46.217396Z",
     "iopub.status.busy": "2022-03-21T12:56:46.216337Z",
     "iopub.status.idle": "2022-03-21T12:56:46.247969Z",
     "shell.execute_reply": "2022-03-21T12:56:46.247141Z",
     "shell.execute_reply.started": "2022-03-21T12:56:46.217345Z"
    },
    "papermill": {
     "duration": null,
     "end_time": null,
     "exception": null,
     "start_time": null,
     "status": "pending"
    },
    "tags": []
   },
   "outputs": [],
   "source": [
    "train_df.groupby([\"Asset_ID\"]).agg({'timestamp': [np.min,np.max]})\n"
   ]
  },
  {
   "cell_type": "markdown",
   "id": "30a116cd",
   "metadata": {
    "papermill": {
     "duration": null,
     "end_time": null,
     "exception": null,
     "start_time": null,
     "status": "pending"
    },
    "tags": []
   },
   "source": [
    "The date range is slightly different for each of the asset.\n",
    "\n"
   ]
  },
  {
   "cell_type": "code",
   "execution_count": null,
   "id": "009adbf0",
   "metadata": {
    "execution": {
     "iopub.execute_input": "2022-03-21T12:56:54.958795Z",
     "iopub.status.busy": "2022-03-21T12:56:54.958482Z",
     "iopub.status.idle": "2022-03-21T12:57:19.186424Z",
     "shell.execute_reply": "2022-03-21T12:57:19.185711Z",
     "shell.execute_reply.started": "2022-03-21T12:56:54.958762Z"
    },
    "papermill": {
     "duration": null,
     "end_time": null,
     "exception": null,
     "start_time": null,
     "status": "pending"
    },
    "tags": []
   },
   "outputs": [],
   "source": [
    "plt.figure(figsize=(50, 25))\n",
    "sns.lineplot(data=train_df, x=\"timestamp\", y=\"Target\", hue=\"Asset_ID\")"
   ]
  },
  {
   "cell_type": "markdown",
   "id": "81a80830",
   "metadata": {
    "papermill": {
     "duration": null,
     "end_time": null,
     "exception": null,
     "start_time": null,
     "status": "pending"
    },
    "tags": []
   },
   "source": [
    "The Target variable has very different patterns for each of the asset of interest."
   ]
  },
  {
   "cell_type": "markdown",
   "id": "4edb2501",
   "metadata": {
    "papermill": {
     "duration": null,
     "end_time": null,
     "exception": null,
     "start_time": null,
     "status": "pending"
    },
    "tags": []
   },
   "source": [
    "#### Correlation Matrix\n",
    "The following code provide correlation matrix for each of the asset."
   ]
  },
  {
   "cell_type": "code",
   "execution_count": null,
   "id": "84683c9d",
   "metadata": {
    "execution": {
     "iopub.execute_input": "2022-03-21T12:57:24.643521Z",
     "iopub.status.busy": "2022-03-21T12:57:24.642747Z",
     "iopub.status.idle": "2022-03-21T12:57:25.540166Z",
     "shell.execute_reply": "2022-03-21T12:57:25.539341Z",
     "shell.execute_reply.started": "2022-03-21T12:57:24.643475Z"
    },
    "papermill": {
     "duration": null,
     "end_time": null,
     "exception": null,
     "start_time": null,
     "status": "pending"
    },
    "tags": []
   },
   "outputs": [],
   "source": [
    "corr_matrix = train_df[['Count','Open','High','Low','Close','Volume','VWAP','Target']].corr()\n",
    "plt.figure(figsize=(10, 10))\n",
    "sns.heatmap(corr_matrix,annot=True, cmap='Blues');"
   ]
  },
  {
   "cell_type": "markdown",
   "id": "17b2470e",
   "metadata": {
    "papermill": {
     "duration": null,
     "end_time": null,
     "exception": null,
     "start_time": null,
     "status": "pending"
    },
    "tags": []
   },
   "source": [
    "The Open, High, Low, Close, and VWAP are highly correlated."
   ]
  },
  {
   "cell_type": "markdown",
   "id": "57fb83b6",
   "metadata": {
    "papermill": {
     "duration": null,
     "end_time": null,
     "exception": null,
     "start_time": null,
     "status": "pending"
    },
    "tags": []
   },
   "source": [
    "### Training and Testing Split\n",
    "\n",
    "Use data from November 1st - November 20th as training set, use the rest data in November as validation set. The testing set is provided in example_test.csv file."
   ]
  },
  {
   "cell_type": "code",
   "execution_count": null,
   "id": "a2c94263",
   "metadata": {
    "execution": {
     "iopub.execute_input": "2022-03-21T12:57:31.485123Z",
     "iopub.status.busy": "2022-03-21T12:57:31.483992Z",
     "iopub.status.idle": "2022-03-21T12:57:31.798832Z",
     "shell.execute_reply": "2022-03-21T12:57:31.79739Z",
     "shell.execute_reply.started": "2022-03-21T12:57:31.48507Z"
    },
    "papermill": {
     "duration": null,
     "end_time": null,
     "exception": null,
     "start_time": null,
     "status": "pending"
    },
    "tags": []
   },
   "outputs": [],
   "source": [
    "train_set = train_df[train_df.timestamp.dt.day <= 20]\n",
    "val_set = train_df[train_df.timestamp.dt.day > 20]"
   ]
  },
  {
   "cell_type": "code",
   "execution_count": null,
   "id": "d0e66cfc",
   "metadata": {
    "execution": {
     "iopub.execute_input": "2022-03-21T12:57:36.053714Z",
     "iopub.status.busy": "2022-03-21T12:57:36.053415Z",
     "iopub.status.idle": "2022-03-21T12:57:36.061954Z",
     "shell.execute_reply": "2022-03-21T12:57:36.060674Z",
     "shell.execute_reply.started": "2022-03-21T12:57:36.053684Z"
    },
    "papermill": {
     "duration": null,
     "end_time": null,
     "exception": null,
     "start_time": null,
     "status": "pending"
    },
    "tags": []
   },
   "outputs": [],
   "source": [
    "train_set.shape\n"
   ]
  },
  {
   "cell_type": "code",
   "execution_count": null,
   "id": "f6734daa",
   "metadata": {
    "execution": {
     "iopub.execute_input": "2022-03-21T12:57:37.895762Z",
     "iopub.status.busy": "2022-03-21T12:57:37.89512Z",
     "iopub.status.idle": "2022-03-21T12:57:37.902941Z",
     "shell.execute_reply": "2022-03-21T12:57:37.901708Z",
     "shell.execute_reply.started": "2022-03-21T12:57:37.895719Z"
    },
    "papermill": {
     "duration": null,
     "end_time": null,
     "exception": null,
     "start_time": null,
     "status": "pending"
    },
    "tags": []
   },
   "outputs": [],
   "source": [
    "val_set.shape\n"
   ]
  },
  {
   "cell_type": "code",
   "execution_count": null,
   "id": "3a05a84a",
   "metadata": {
    "execution": {
     "iopub.execute_input": "2022-03-21T12:57:39.652002Z",
     "iopub.status.busy": "2022-03-21T12:57:39.651631Z",
     "iopub.status.idle": "2022-03-21T12:57:39.6651Z",
     "shell.execute_reply": "2022-03-21T12:57:39.663452Z",
     "shell.execute_reply.started": "2022-03-21T12:57:39.651969Z"
    },
    "papermill": {
     "duration": null,
     "end_time": null,
     "exception": null,
     "start_time": null,
     "status": "pending"
    },
    "tags": []
   },
   "outputs": [],
   "source": [
    "train_set.Asset_ID.value_counts()\n"
   ]
  },
  {
   "cell_type": "code",
   "execution_count": null,
   "id": "3b80814b",
   "metadata": {
    "execution": {
     "iopub.execute_input": "2022-03-21T12:57:42.712639Z",
     "iopub.status.busy": "2022-03-21T12:57:42.711603Z",
     "iopub.status.idle": "2022-03-21T12:57:42.724238Z",
     "shell.execute_reply": "2022-03-21T12:57:42.723343Z",
     "shell.execute_reply.started": "2022-03-21T12:57:42.712583Z"
    },
    "papermill": {
     "duration": null,
     "end_time": null,
     "exception": null,
     "start_time": null,
     "status": "pending"
    },
    "tags": []
   },
   "outputs": [],
   "source": [
    "val_set.Asset_ID.value_counts()\n"
   ]
  },
  {
   "cell_type": "markdown",
   "id": "ec9a18b4",
   "metadata": {
    "papermill": {
     "duration": null,
     "end_time": null,
     "exception": null,
     "start_time": null,
     "status": "pending"
    },
    "tags": []
   },
   "source": [
    "### Random Forest\n",
    "\n",
    "This section build random forest to predict the Target variable."
   ]
  },
  {
   "cell_type": "code",
   "execution_count": null,
   "id": "5973bb89",
   "metadata": {
    "execution": {
     "iopub.execute_input": "2022-03-21T12:57:45.709746Z",
     "iopub.status.busy": "2022-03-21T12:57:45.709405Z",
     "iopub.status.idle": "2022-03-21T12:57:45.714926Z",
     "shell.execute_reply": "2022-03-21T12:57:45.713991Z",
     "shell.execute_reply.started": "2022-03-21T12:57:45.709714Z"
    },
    "papermill": {
     "duration": null,
     "end_time": null,
     "exception": null,
     "start_time": null,
     "status": "pending"
    },
    "tags": []
   },
   "outputs": [],
   "source": [
    "# Create the model\n",
    "rf1 = RandomForestRegressor(random_state=5, n_jobs = -1)"
   ]
  },
  {
   "cell_type": "code",
   "execution_count": null,
   "id": "981d403b",
   "metadata": {
    "execution": {
     "iopub.execute_input": "2022-03-21T12:57:47.45283Z",
     "iopub.status.busy": "2022-03-21T12:57:47.452206Z",
     "iopub.status.idle": "2022-03-21T13:04:34.84569Z",
     "shell.execute_reply": "2022-03-21T13:04:34.84433Z",
     "shell.execute_reply.started": "2022-03-21T12:57:47.452797Z"
    },
    "papermill": {
     "duration": null,
     "end_time": null,
     "exception": null,
     "start_time": null,
     "status": "pending"
    },
    "tags": []
   },
   "outputs": [],
   "source": [
    "# Fit the model\n",
    "input_cols = num_cols + encoded_cols\n",
    "target_col = 'Target'\n",
    "\n",
    "rf1.fit(train_set[input_cols], train_set[target_col])"
   ]
  },
  {
   "cell_type": "code",
   "execution_count": null,
   "id": "5354c5d7",
   "metadata": {
    "execution": {
     "iopub.execute_input": "2022-03-21T13:04:45.096933Z",
     "iopub.status.busy": "2022-03-21T13:04:45.095999Z",
     "iopub.status.idle": "2022-03-21T13:04:54.640669Z",
     "shell.execute_reply": "2022-03-21T13:04:54.639377Z",
     "shell.execute_reply.started": "2022-03-21T13:04:45.096886Z"
    },
    "papermill": {
     "duration": null,
     "end_time": null,
     "exception": null,
     "start_time": null,
     "status": "pending"
    },
    "tags": []
   },
   "outputs": [],
   "source": [
    "# Model Evaluation\n",
    "tree_train_preds = rf1.predict(train_set[input_cols])\n",
    "tree_val_preds = rf1.predict(val_set[input_cols])\n",
    "\n",
    "tree_train_rmse = mean_squared_error(train_set[target_col], tree_train_preds, squared=False)\n",
    "tree_val_rmse = mean_squared_error(val_set[target_col], tree_val_preds, squared=False)\n",
    "\n",
    "print(\"Train Error is \", tree_train_rmse)\n",
    "print(\"Validation Error is \", tree_val_rmse)"
   ]
  },
  {
   "cell_type": "code",
   "execution_count": null,
   "id": "dae97ec7",
   "metadata": {
    "execution": {
     "iopub.execute_input": "2022-03-21T13:05:05.432441Z",
     "iopub.status.busy": "2022-03-21T13:05:05.431143Z",
     "iopub.status.idle": "2022-03-21T13:05:05.444762Z",
     "shell.execute_reply": "2022-03-21T13:05:05.443646Z",
     "shell.execute_reply.started": "2022-03-21T13:05:05.432351Z"
    },
    "papermill": {
     "duration": null,
     "end_time": null,
     "exception": null,
     "start_time": null,
     "status": "pending"
    },
    "tags": []
   },
   "outputs": [],
   "source": [
    "# functions for hyperparameter tunning\n",
    "def test_params(**params):\n",
    "    model = RandomForestRegressor(random_state=5, n_jobs=-1, **params).fit(train_set[input_cols], train_set[target_col])\n",
    "    train_rmse = mean_squared_error(model.predict(train_set[input_cols]), train_set[target_col], squared=False)\n",
    "    val_rmse = mean_squared_error(model.predict(val_set[input_cols]), val_set[target_col], squared=False)\n",
    "    return train_rmse, val_rmse\n",
    "\n",
    "def test_param_and_plot(param_name, param_values):\n",
    "    train_errors, val_errors = [], [] \n",
    "    for value in param_values:\n",
    "        params = {param_name: value}\n",
    "        train_rmse, val_rmse = test_params(**params)\n",
    "        train_errors.append(train_rmse)\n",
    "        val_errors.append(val_rmse)\n",
    "    plt.figure(figsize=(10,6))\n",
    "    plt.title('Overfitting curve: ' + param_name)\n",
    "    plt.plot(param_values, train_errors, 'b-o')\n",
    "    plt.plot(param_values, val_errors, 'r-o')\n",
    "    plt.xlabel(param_name)\n",
    "    plt.ylabel('RMSE')\n",
    "    plt.legend(['Training', 'Validation'])"
   ]
  },
  {
   "cell_type": "code",
   "execution_count": null,
   "id": "a7779219",
   "metadata": {
    "execution": {
     "iopub.execute_input": "2022-03-21T13:05:09.804232Z",
     "iopub.status.busy": "2022-03-21T13:05:09.803648Z",
     "iopub.status.idle": "2022-03-21T13:32:08.518891Z",
     "shell.execute_reply": "2022-03-21T13:32:08.517743Z",
     "shell.execute_reply.started": "2022-03-21T13:05:09.804172Z"
    },
    "papermill": {
     "duration": null,
     "end_time": null,
     "exception": null,
     "start_time": null,
     "status": "pending"
    },
    "tags": []
   },
   "outputs": [],
   "source": [
    "# max_depth\n",
    "test_param_and_plot('max_depth', [5, 10, 15, 20, 25, 30, 35])"
   ]
  },
  {
   "cell_type": "code",
   "execution_count": null,
   "id": "38c42798",
   "metadata": {
    "execution": {
     "iopub.execute_input": "2022-03-14T13:40:53.641059Z",
     "iopub.status.busy": "2022-03-14T13:40:53.640299Z",
     "iopub.status.idle": "2022-03-14T13:51:47.322439Z",
     "shell.execute_reply": "2022-03-14T13:51:47.321553Z",
     "shell.execute_reply.started": "2022-03-14T13:40:53.641012Z"
    },
    "papermill": {
     "duration": null,
     "end_time": null,
     "exception": null,
     "start_time": null,
     "status": "pending"
    },
    "tags": []
   },
   "outputs": [],
   "source": [
    "# n_estimators\n",
    "test_param_and_plot('n_estimators', [5, 10, 50, 100])"
   ]
  },
  {
   "cell_type": "code",
   "execution_count": null,
   "id": "03dc8fe1",
   "metadata": {
    "execution": {
     "iopub.execute_input": "2022-03-14T13:52:15.178073Z",
     "iopub.status.busy": "2022-03-14T13:52:15.17778Z",
     "iopub.status.idle": "2022-03-14T13:52:20.085101Z",
     "shell.execute_reply": "2022-03-14T13:52:20.084357Z",
     "shell.execute_reply.started": "2022-03-14T13:52:15.178044Z"
    },
    "papermill": {
     "duration": null,
     "end_time": null,
     "exception": null,
     "start_time": null,
     "status": "pending"
    },
    "tags": []
   },
   "outputs": [],
   "source": [
    "rf2 = RandomForestRegressor(random_state=5, n_jobs = -1, max_depth=5, n_estimators=5)\n",
    "\n",
    "rf2.fit(train_set[input_cols], train_set[target_col])\n",
    "\n",
    "tree_train_preds = rf2.predict(train_set[input_cols])\n",
    "tree_val_preds = rf2.predict(val_set[input_cols])\n",
    "\n",
    "tree_train_rmse = mean_squared_error(train_set[target_col], tree_train_preds, squared=False)\n",
    "tree_val_rmse = mean_squared_error(val_set[target_col], tree_val_preds, squared=False)\n",
    "\n",
    "print(\"Train Error is \", tree_train_rmse)\n",
    "print(\"Validation Error is \", tree_val_rmse)"
   ]
  },
  {
   "cell_type": "code",
   "execution_count": null,
   "id": "317ae699",
   "metadata": {
    "execution": {
     "iopub.execute_input": "2022-03-14T13:52:55.502763Z",
     "iopub.status.busy": "2022-03-14T13:52:55.501706Z",
     "iopub.status.idle": "2022-03-14T13:52:55.66365Z",
     "shell.execute_reply": "2022-03-14T13:52:55.662753Z",
     "shell.execute_reply.started": "2022-03-14T13:52:55.502705Z"
    },
    "papermill": {
     "duration": null,
     "end_time": null,
     "exception": null,
     "start_time": null,
     "status": "pending"
    },
    "tags": []
   },
   "outputs": [],
   "source": [
    "rf2_importance_df = pd.DataFrame({\n",
    "    'feature': train_set[input_cols].columns,\n",
    "    'importance': rf2.feature_importances_\n",
    "}).sort_values('importance', ascending=False)"
   ]
  },
  {
   "cell_type": "code",
   "execution_count": null,
   "id": "5b2780be",
   "metadata": {
    "execution": {
     "iopub.execute_input": "2022-03-14T13:53:05.678169Z",
     "iopub.status.busy": "2022-03-14T13:53:05.677864Z",
     "iopub.status.idle": "2022-03-14T13:53:05.939208Z",
     "shell.execute_reply": "2022-03-14T13:53:05.938439Z",
     "shell.execute_reply.started": "2022-03-14T13:53:05.678141Z"
    },
    "papermill": {
     "duration": null,
     "end_time": null,
     "exception": null,
     "start_time": null,
     "status": "pending"
    },
    "tags": []
   },
   "outputs": [],
   "source": [
    "sns.barplot(data=rf2_importance_df.head(10), x='importance', y='feature')\n"
   ]
  },
  {
   "cell_type": "markdown",
   "id": "575493a0",
   "metadata": {
    "papermill": {
     "duration": null,
     "end_time": null,
     "exception": null,
     "start_time": null,
     "status": "pending"
    },
    "tags": []
   },
   "source": [
    "## Gradient Boost"
   ]
  },
  {
   "cell_type": "code",
   "execution_count": null,
   "id": "b8ad2054",
   "metadata": {
    "execution": {
     "iopub.execute_input": "2022-03-14T13:54:20.523462Z",
     "iopub.status.busy": "2022-03-14T13:54:20.522768Z",
     "iopub.status.idle": "2022-03-14T13:54:20.527626Z",
     "shell.execute_reply": "2022-03-14T13:54:20.52669Z",
     "shell.execute_reply.started": "2022-03-14T13:54:20.523419Z"
    },
    "papermill": {
     "duration": null,
     "end_time": null,
     "exception": null,
     "start_time": null,
     "status": "pending"
    },
    "tags": []
   },
   "outputs": [],
   "source": [
    "# Create the model\n",
    "GB = XGBRegressor(random_state=5, n_jobs=-1, n_estimators=20, max_depth=4)"
   ]
  },
  {
   "cell_type": "code",
   "execution_count": null,
   "id": "8992e8fd",
   "metadata": {
    "execution": {
     "iopub.execute_input": "2022-03-14T13:54:48.210678Z",
     "iopub.status.busy": "2022-03-14T13:54:48.210382Z",
     "iopub.status.idle": "2022-03-14T13:54:54.781347Z",
     "shell.execute_reply": "2022-03-14T13:54:54.780462Z",
     "shell.execute_reply.started": "2022-03-14T13:54:48.210648Z"
    },
    "papermill": {
     "duration": null,
     "end_time": null,
     "exception": null,
     "start_time": null,
     "status": "pending"
    },
    "tags": []
   },
   "outputs": [],
   "source": [
    "# Fit the model\n",
    "GB.fit(train_set[input_cols], train_set[target_col])"
   ]
  },
  {
   "cell_type": "code",
   "execution_count": null,
   "id": "2fa42a29",
   "metadata": {
    "execution": {
     "iopub.execute_input": "2022-03-14T13:55:13.219636Z",
     "iopub.status.busy": "2022-03-14T13:55:13.21933Z",
     "iopub.status.idle": "2022-03-14T13:55:13.661385Z",
     "shell.execute_reply": "2022-03-14T13:55:13.659987Z",
     "shell.execute_reply.started": "2022-03-14T13:55:13.219573Z"
    },
    "papermill": {
     "duration": null,
     "end_time": null,
     "exception": null,
     "start_time": null,
     "status": "pending"
    },
    "tags": []
   },
   "outputs": [],
   "source": [
    "# Model Evaluation\n",
    "GB_train_preds = GB.predict(train_set[input_cols])\n",
    "GB_val_preds = GB.predict(val_set[input_cols])\n",
    "\n",
    "GB_train_rmse = mean_squared_error(train_set[target_col], GB_train_preds, squared=False)\n",
    "GB_val_rmse = mean_squared_error(val_set[target_col], GB_val_preds, squared=False)\n",
    "\n",
    "print(\"Train Error is \", GB_train_rmse)\n",
    "print(\"Validation Error is \", GB_val_rmse)"
   ]
  },
  {
   "cell_type": "code",
   "execution_count": null,
   "id": "81adb369",
   "metadata": {
    "execution": {
     "iopub.execute_input": "2022-03-14T13:55:26.116195Z",
     "iopub.status.busy": "2022-03-14T13:55:26.115924Z",
     "iopub.status.idle": "2022-03-14T13:55:26.125668Z",
     "shell.execute_reply": "2022-03-14T13:55:26.124703Z",
     "shell.execute_reply.started": "2022-03-14T13:55:26.116168Z"
    },
    "papermill": {
     "duration": null,
     "end_time": null,
     "exception": null,
     "start_time": null,
     "status": "pending"
    },
    "tags": []
   },
   "outputs": [],
   "source": [
    "# functions for hyperparameter tunning\n",
    "def test_params(**params):\n",
    "    model = XGBRegressor(random_state=5, n_jobs=-1, **params).fit(train_set[input_cols], train_set[target_col])\n",
    "    train_rmse = mean_squared_error(model.predict(train_set[input_cols]), train_set[target_col], squared=False)\n",
    "    val_rmse = mean_squared_error(model.predict(val_set[input_cols]), val_set[target_col], squared=False)\n",
    "    return train_rmse, val_rmse\n",
    "\n",
    "def test_param_and_plot(param_name, param_values):\n",
    "    train_errors, val_errors = [], [] \n",
    "    for value in param_values:\n",
    "        params = {param_name: value}\n",
    "        train_rmse, val_rmse = test_params(**params)\n",
    "        train_errors.append(train_rmse)\n",
    "        val_errors.append(val_rmse)\n",
    "    plt.figure(figsize=(10,6))\n",
    "    plt.title('Overfitting curve: ' + param_name)\n",
    "    plt.plot(param_values, train_errors, 'b-o')\n",
    "    plt.plot(param_values, val_errors, 'r-o')\n",
    "    plt.xlabel(param_name)\n",
    "    plt.ylabel('RMSE')\n",
    "    plt.legend(['Training', 'Validation'])"
   ]
  },
  {
   "cell_type": "code",
   "execution_count": null,
   "id": "59480988",
   "metadata": {
    "execution": {
     "iopub.execute_input": "2022-03-14T13:55:39.931288Z",
     "iopub.status.busy": "2022-03-14T13:55:39.930996Z",
     "iopub.status.idle": "2022-03-14T13:56:16.600351Z",
     "shell.execute_reply": "2022-03-14T13:56:16.599566Z",
     "shell.execute_reply.started": "2022-03-14T13:55:39.931255Z"
    },
    "papermill": {
     "duration": null,
     "end_time": null,
     "exception": null,
     "start_time": null,
     "status": "pending"
    },
    "tags": []
   },
   "outputs": [],
   "source": [
    "# n_estimators\n",
    "test_param_and_plot('n_estimators', [5, 10, 20, 40])"
   ]
  },
  {
   "cell_type": "code",
   "execution_count": null,
   "id": "e2faab1a",
   "metadata": {
    "execution": {
     "iopub.execute_input": "2022-03-14T13:57:34.777271Z",
     "iopub.status.busy": "2022-03-14T13:57:34.776664Z",
     "iopub.status.idle": "2022-03-14T13:57:42.928233Z",
     "shell.execute_reply": "2022-03-14T13:57:42.92726Z",
     "shell.execute_reply.started": "2022-03-14T13:57:34.777229Z"
    },
    "papermill": {
     "duration": null,
     "end_time": null,
     "exception": null,
     "start_time": null,
     "status": "pending"
    },
    "tags": []
   },
   "outputs": [],
   "source": [
    "# tuned model\n",
    "GB2 = XGBRegressor(random_state=5, n_jobs=-1, n_estimators=20, max_depth=5)\n",
    "\n",
    "GB2.fit(train_set[input_cols], train_set[target_col])\n",
    "\n",
    "GB_train_preds = GB2.predict(train_set[input_cols])\n",
    "GB_val_preds = GB2.predict(val_set[input_cols])\n",
    "\n",
    "GB_train_rmse = mean_squared_error(train_set[target_col], GB_train_preds, squared=False)\n",
    "GB_val_rmse = mean_squared_error(val_set[target_col], GB_val_preds, squared=False)\n",
    "\n",
    "print(\"Train Error is \", GB_train_rmse)\n",
    "print(\"Validation Error is \", GB_val_rmse)"
   ]
  }
 ],
 "metadata": {
  "kernelspec": {
   "display_name": "Python 3",
   "language": "python",
   "name": "python3"
  },
  "language_info": {
   "codemirror_mode": {
    "name": "ipython",
    "version": 3
   },
   "file_extension": ".py",
   "mimetype": "text/x-python",
   "name": "python",
   "nbconvert_exporter": "python",
   "pygments_lexer": "ipython3",
   "version": "3.7.12"
  },
  "papermill": {
   "default_parameters": {},
   "duration": 29.380492,
   "end_time": "2022-03-23T11:15:48.591518",
   "environment_variables": {},
   "exception": true,
   "input_path": "__notebook__.ipynb",
   "output_path": "__notebook__.ipynb",
   "parameters": {},
   "start_time": "2022-03-23T11:15:19.211026",
   "version": "2.3.3"
  }
 },
 "nbformat": 4,
 "nbformat_minor": 5
}
